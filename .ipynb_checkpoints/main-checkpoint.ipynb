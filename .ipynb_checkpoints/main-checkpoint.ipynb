{
 "cells": [
  {
   "cell_type": "code",
   "execution_count": 4,
   "metadata": {
    "scrolled": true
   },
   "outputs": [
    {
     "data": {
      "text/plain": [
       "['https://finance.naver.com/sise/dividend_list.nhn?field=roe&sosok=KOSPI&ordering=desc&page=1',\n",
       " 'https://finance.naver.com/sise/dividend_list.nhn?field=roe&sosok=KOSPI&ordering=desc&page=2',\n",
       " 'https://finance.naver.com/sise/dividend_list.nhn?field=roe&sosok=KOSPI&ordering=desc&page=3',\n",
       " 'https://finance.naver.com/sise/dividend_list.nhn?field=roe&sosok=KOSPI&ordering=desc&page=4',\n",
       " 'https://finance.naver.com/sise/dividend_list.nhn?field=roe&sosok=KOSPI&ordering=desc&page=5',\n",
       " 'https://finance.naver.com/sise/dividend_list.nhn?field=roe&sosok=KOSPI&ordering=desc&page=6',\n",
       " 'https://finance.naver.com/sise/dividend_list.nhn?field=roe&sosok=KOSPI&ordering=desc&page=7',\n",
       " 'https://finance.naver.com/sise/dividend_list.nhn?field=roe&sosok=KOSPI&ordering=desc&page=8',\n",
       " 'https://finance.naver.com/sise/dividend_list.nhn?field=roe&sosok=KOSPI&ordering=desc&page=9',\n",
       " 'https://finance.naver.com/sise/dividend_list.nhn?field=roe&sosok=KOSPI&ordering=desc&page=10',\n",
       " 'https://finance.naver.com/sise/dividend_list.nhn?field=roe&sosok=KOSPI&ordering=desc&page=11',\n",
       " 'https://finance.naver.com/sise/dividend_list.nhn?field=roe&sosok=KOSPI&ordering=desc&page=12',\n",
       " 'https://finance.naver.com/sise/dividend_list.nhn?field=roe&sosok=KOSPI&ordering=desc&page=13']"
      ]
     },
     "execution_count": 4,
     "metadata": {},
     "output_type": "execute_result"
    }
   ],
   "source": [
    "from urllib.request import urlopen\n",
    "from bs4 import BeautifulSoup\n",
    "\n",
    "url_list = []\n",
    "url_base = \"https://finance.naver.com/sise/dividend_list.nhn?field=roe&sosok=KOSPI&ordering=desc&\"\n",
    "url_sub = 'page='\n",
    "\n",
    "for i in range(1, 14):\n",
    "    url_list.append(url_base + url_sub + str(i))\n",
    "\n",
    "url_list"
   ]
  },
  {
   "cell_type": "code",
   "execution_count": 5,
   "metadata": {
    "scrolled": true
   },
   "outputs": [
    {
     "name": "stdout",
     "output_type": "stream",
     "text": [
      "https://finance.naver.com/sise/dividend_list.nhn?field=roe&sosok=KOSPI&ordering=desc&page=1 ...\n"
     ]
    },
    {
     "name": "stderr",
     "output_type": "stream",
     "text": [
      "c:\\users\\taehui lee\\anaconda3\\envs\\data_python\\lib\\site-packages\\ipykernel_launcher.py:25: TqdmDeprecationWarning: This function will be removed in tqdm==5.0.0\n",
      "Please use `tqdm.notebook.tqdm` instead of `tqdm.tqdm_notebook`\n"
     ]
    },
    {
     "data": {
      "application/vnd.jupyter.widget-view+json": {
       "model_id": "02d676dac7c04a3c99bed6dc4c4d3c0c",
       "version_major": 2,
       "version_minor": 0
      },
      "text/plain": [
       "HBox(children=(FloatProgress(value=0.0, description='name', max=68.0, style=ProgressStyle(description_width='i…"
      ]
     },
     "metadata": {},
     "output_type": "display_data"
    },
    {
     "name": "stdout",
     "output_type": "stream",
     "text": [
      "\n"
     ]
    },
    {
     "name": "stderr",
     "output_type": "stream",
     "text": [
      "c:\\users\\taehui lee\\anaconda3\\envs\\data_python\\lib\\site-packages\\ipykernel_launcher.py:31: TqdmDeprecationWarning: This function will be removed in tqdm==5.0.0\n",
      "Please use `tqdm.notebook.tqdm` instead of `tqdm.tqdm_notebook`\n"
     ]
    },
    {
     "data": {
      "application/vnd.jupyter.widget-view+json": {
       "model_id": "1039ec9b0292482e823042789e50b20d",
       "version_major": 2,
       "version_minor": 0
      },
      "text/plain": [
       "HBox(children=(FloatProgress(value=0.0, description='num', max=768.0, style=ProgressStyle(description_width='i…"
      ]
     },
     "metadata": {},
     "output_type": "display_data"
    },
    {
     "name": "stdout",
     "output_type": "stream",
     "text": [
      "\n",
      "https://finance.naver.com/sise/dividend_list.nhn?field=roe&sosok=KOSPI&ordering=desc&page=2 ...\n"
     ]
    },
    {
     "data": {
      "application/vnd.jupyter.widget-view+json": {
       "model_id": "375b9835220e4bc9a431e5700f0081b7",
       "version_major": 2,
       "version_minor": 0
      },
      "text/plain": [
       "HBox(children=(FloatProgress(value=0.0, description='name', max=68.0, style=ProgressStyle(description_width='i…"
      ]
     },
     "metadata": {},
     "output_type": "display_data"
    },
    {
     "name": "stdout",
     "output_type": "stream",
     "text": [
      "\n"
     ]
    },
    {
     "data": {
      "application/vnd.jupyter.widget-view+json": {
       "model_id": "1db4cf1f95b94c548e1d3cc4e7416124",
       "version_major": 2,
       "version_minor": 0
      },
      "text/plain": [
       "HBox(children=(FloatProgress(value=0.0, description='num', max=768.0, style=ProgressStyle(description_width='i…"
      ]
     },
     "metadata": {},
     "output_type": "display_data"
    },
    {
     "name": "stdout",
     "output_type": "stream",
     "text": [
      "\n",
      "https://finance.naver.com/sise/dividend_list.nhn?field=roe&sosok=KOSPI&ordering=desc&page=3 ...\n"
     ]
    },
    {
     "data": {
      "application/vnd.jupyter.widget-view+json": {
       "model_id": "19ef3c046dab4c8186abcee80825e5e0",
       "version_major": 2,
       "version_minor": 0
      },
      "text/plain": [
       "HBox(children=(FloatProgress(value=0.0, description='name', max=68.0, style=ProgressStyle(description_width='i…"
      ]
     },
     "metadata": {},
     "output_type": "display_data"
    },
    {
     "name": "stdout",
     "output_type": "stream",
     "text": [
      "\n"
     ]
    },
    {
     "data": {
      "application/vnd.jupyter.widget-view+json": {
       "model_id": "781d41f7709247c1babf8fbca7cd179d",
       "version_major": 2,
       "version_minor": 0
      },
      "text/plain": [
       "HBox(children=(FloatProgress(value=0.0, description='num', max=768.0, style=ProgressStyle(description_width='i…"
      ]
     },
     "metadata": {},
     "output_type": "display_data"
    },
    {
     "name": "stdout",
     "output_type": "stream",
     "text": [
      "\n",
      "https://finance.naver.com/sise/dividend_list.nhn?field=roe&sosok=KOSPI&ordering=desc&page=4 ...\n"
     ]
    },
    {
     "data": {
      "application/vnd.jupyter.widget-view+json": {
       "model_id": "d8b3b879419a4117b6b6aba3fd3f7153",
       "version_major": 2,
       "version_minor": 0
      },
      "text/plain": [
       "HBox(children=(FloatProgress(value=0.0, description='name', max=68.0, style=ProgressStyle(description_width='i…"
      ]
     },
     "metadata": {},
     "output_type": "display_data"
    },
    {
     "name": "stdout",
     "output_type": "stream",
     "text": [
      "\n"
     ]
    },
    {
     "data": {
      "application/vnd.jupyter.widget-view+json": {
       "model_id": "a1ff47141e0844c08a29ca1b688f77c0",
       "version_major": 2,
       "version_minor": 0
      },
      "text/plain": [
       "HBox(children=(FloatProgress(value=0.0, description='num', max=768.0, style=ProgressStyle(description_width='i…"
      ]
     },
     "metadata": {},
     "output_type": "display_data"
    },
    {
     "name": "stdout",
     "output_type": "stream",
     "text": [
      "\n",
      "https://finance.naver.com/sise/dividend_list.nhn?field=roe&sosok=KOSPI&ordering=desc&page=5 ...\n"
     ]
    },
    {
     "data": {
      "application/vnd.jupyter.widget-view+json": {
       "model_id": "9cb9447baf2b4007a556bed4f9ef3dc0",
       "version_major": 2,
       "version_minor": 0
      },
      "text/plain": [
       "HBox(children=(FloatProgress(value=0.0, description='name', max=68.0, style=ProgressStyle(description_width='i…"
      ]
     },
     "metadata": {},
     "output_type": "display_data"
    },
    {
     "name": "stdout",
     "output_type": "stream",
     "text": [
      "\n"
     ]
    },
    {
     "data": {
      "application/vnd.jupyter.widget-view+json": {
       "model_id": "5464430e26ea4d679df56f01c5aae3bb",
       "version_major": 2,
       "version_minor": 0
      },
      "text/plain": [
       "HBox(children=(FloatProgress(value=0.0, description='num', max=768.0, style=ProgressStyle(description_width='i…"
      ]
     },
     "metadata": {},
     "output_type": "display_data"
    },
    {
     "name": "stdout",
     "output_type": "stream",
     "text": [
      "\n",
      "https://finance.naver.com/sise/dividend_list.nhn?field=roe&sosok=KOSPI&ordering=desc&page=6 ...\n"
     ]
    },
    {
     "data": {
      "application/vnd.jupyter.widget-view+json": {
       "model_id": "ebfd2be8e2ba4e598fe58dc7f2eb027e",
       "version_major": 2,
       "version_minor": 0
      },
      "text/plain": [
       "HBox(children=(FloatProgress(value=0.0, description='name', max=68.0, style=ProgressStyle(description_width='i…"
      ]
     },
     "metadata": {},
     "output_type": "display_data"
    },
    {
     "name": "stdout",
     "output_type": "stream",
     "text": [
      "\n"
     ]
    },
    {
     "data": {
      "application/vnd.jupyter.widget-view+json": {
       "model_id": "bc2e3c0f996b4ace8e7f9b368212b66a",
       "version_major": 2,
       "version_minor": 0
      },
      "text/plain": [
       "HBox(children=(FloatProgress(value=0.0, description='num', max=768.0, style=ProgressStyle(description_width='i…"
      ]
     },
     "metadata": {},
     "output_type": "display_data"
    },
    {
     "name": "stdout",
     "output_type": "stream",
     "text": [
      "\n",
      "https://finance.naver.com/sise/dividend_list.nhn?field=roe&sosok=KOSPI&ordering=desc&page=7 ...\n"
     ]
    },
    {
     "data": {
      "application/vnd.jupyter.widget-view+json": {
       "model_id": "a1c7032c1729490d80170500b06f9e95",
       "version_major": 2,
       "version_minor": 0
      },
      "text/plain": [
       "HBox(children=(FloatProgress(value=0.0, description='name', max=68.0, style=ProgressStyle(description_width='i…"
      ]
     },
     "metadata": {},
     "output_type": "display_data"
    },
    {
     "name": "stdout",
     "output_type": "stream",
     "text": [
      "\n"
     ]
    },
    {
     "data": {
      "application/vnd.jupyter.widget-view+json": {
       "model_id": "21d05b855c5840048e5d08ee30ad1cdd",
       "version_major": 2,
       "version_minor": 0
      },
      "text/plain": [
       "HBox(children=(FloatProgress(value=0.0, description='num', max=768.0, style=ProgressStyle(description_width='i…"
      ]
     },
     "metadata": {},
     "output_type": "display_data"
    },
    {
     "name": "stdout",
     "output_type": "stream",
     "text": [
      "\n",
      "https://finance.naver.com/sise/dividend_list.nhn?field=roe&sosok=KOSPI&ordering=desc&page=8 ...\n"
     ]
    },
    {
     "data": {
      "application/vnd.jupyter.widget-view+json": {
       "model_id": "73d9b503ca89489b8fa32515584e9a32",
       "version_major": 2,
       "version_minor": 0
      },
      "text/plain": [
       "HBox(children=(FloatProgress(value=0.0, description='name', max=68.0, style=ProgressStyle(description_width='i…"
      ]
     },
     "metadata": {},
     "output_type": "display_data"
    },
    {
     "name": "stdout",
     "output_type": "stream",
     "text": [
      "\n"
     ]
    },
    {
     "data": {
      "application/vnd.jupyter.widget-view+json": {
       "model_id": "f2eefb13ca4748fe81f8a313f9f6564f",
       "version_major": 2,
       "version_minor": 0
      },
      "text/plain": [
       "HBox(children=(FloatProgress(value=0.0, description='num', max=768.0, style=ProgressStyle(description_width='i…"
      ]
     },
     "metadata": {},
     "output_type": "display_data"
    },
    {
     "name": "stdout",
     "output_type": "stream",
     "text": [
      "\n",
      "https://finance.naver.com/sise/dividend_list.nhn?field=roe&sosok=KOSPI&ordering=desc&page=9 ...\n"
     ]
    },
    {
     "data": {
      "application/vnd.jupyter.widget-view+json": {
       "model_id": "7a713a7aa7dc46208c8a49d345f956fb",
       "version_major": 2,
       "version_minor": 0
      },
      "text/plain": [
       "HBox(children=(FloatProgress(value=0.0, description='name', max=68.0, style=ProgressStyle(description_width='i…"
      ]
     },
     "metadata": {},
     "output_type": "display_data"
    },
    {
     "name": "stdout",
     "output_type": "stream",
     "text": [
      "\n"
     ]
    },
    {
     "data": {
      "application/vnd.jupyter.widget-view+json": {
       "model_id": "7625e2e8715842a5af060793e5842538",
       "version_major": 2,
       "version_minor": 0
      },
      "text/plain": [
       "HBox(children=(FloatProgress(value=0.0, description='num', max=768.0, style=ProgressStyle(description_width='i…"
      ]
     },
     "metadata": {},
     "output_type": "display_data"
    },
    {
     "name": "stdout",
     "output_type": "stream",
     "text": [
      "\n",
      "https://finance.naver.com/sise/dividend_list.nhn?field=roe&sosok=KOSPI&ordering=desc&page=10 ...\n"
     ]
    },
    {
     "data": {
      "application/vnd.jupyter.widget-view+json": {
       "model_id": "605137aa3f6d4a13af4a4774ad172aff",
       "version_major": 2,
       "version_minor": 0
      },
      "text/plain": [
       "HBox(children=(FloatProgress(value=0.0, description='name', max=68.0, style=ProgressStyle(description_width='i…"
      ]
     },
     "metadata": {},
     "output_type": "display_data"
    },
    {
     "name": "stdout",
     "output_type": "stream",
     "text": [
      "\n"
     ]
    },
    {
     "data": {
      "application/vnd.jupyter.widget-view+json": {
       "model_id": "2971583b654941039432a57f0b88da68",
       "version_major": 2,
       "version_minor": 0
      },
      "text/plain": [
       "HBox(children=(FloatProgress(value=0.0, description='num', max=768.0, style=ProgressStyle(description_width='i…"
      ]
     },
     "metadata": {},
     "output_type": "display_data"
    },
    {
     "name": "stdout",
     "output_type": "stream",
     "text": [
      "\n",
      "https://finance.naver.com/sise/dividend_list.nhn?field=roe&sosok=KOSPI&ordering=desc&page=11 ...\n"
     ]
    },
    {
     "data": {
      "application/vnd.jupyter.widget-view+json": {
       "model_id": "6a5db92c54f348ceb86021d859e23c3b",
       "version_major": 2,
       "version_minor": 0
      },
      "text/plain": [
       "HBox(children=(FloatProgress(value=0.0, description='name', max=68.0, style=ProgressStyle(description_width='i…"
      ]
     },
     "metadata": {},
     "output_type": "display_data"
    },
    {
     "name": "stdout",
     "output_type": "stream",
     "text": [
      "\n"
     ]
    },
    {
     "data": {
      "application/vnd.jupyter.widget-view+json": {
       "model_id": "b89791d62f3e480eaeb8fda5ed7a1f5a",
       "version_major": 2,
       "version_minor": 0
      },
      "text/plain": [
       "HBox(children=(FloatProgress(value=0.0, description='num', max=768.0, style=ProgressStyle(description_width='i…"
      ]
     },
     "metadata": {},
     "output_type": "display_data"
    },
    {
     "name": "stdout",
     "output_type": "stream",
     "text": [
      "\n",
      "https://finance.naver.com/sise/dividend_list.nhn?field=roe&sosok=KOSPI&ordering=desc&page=12 ...\n"
     ]
    },
    {
     "data": {
      "application/vnd.jupyter.widget-view+json": {
       "model_id": "e14f27c6c4064e1c96af027e0023cffd",
       "version_major": 2,
       "version_minor": 0
      },
      "text/plain": [
       "HBox(children=(FloatProgress(value=0.0, description='name', max=68.0, style=ProgressStyle(description_width='i…"
      ]
     },
     "metadata": {},
     "output_type": "display_data"
    },
    {
     "name": "stdout",
     "output_type": "stream",
     "text": [
      "\n"
     ]
    },
    {
     "data": {
      "application/vnd.jupyter.widget-view+json": {
       "model_id": "5e3fcbe89ebb43b3879db61c4eb7a780",
       "version_major": 2,
       "version_minor": 0
      },
      "text/plain": [
       "HBox(children=(FloatProgress(value=0.0, description='num', max=768.0, style=ProgressStyle(description_width='i…"
      ]
     },
     "metadata": {},
     "output_type": "display_data"
    },
    {
     "name": "stdout",
     "output_type": "stream",
     "text": [
      "\n",
      "https://finance.naver.com/sise/dividend_list.nhn?field=roe&sosok=KOSPI&ordering=desc&page=13 ...\n"
     ]
    },
    {
     "data": {
      "application/vnd.jupyter.widget-view+json": {
       "model_id": "3e929db9bd5043038b3f7539636d9107",
       "version_major": 2,
       "version_minor": 0
      },
      "text/plain": [
       "HBox(children=(FloatProgress(value=0.0, description='name', max=64.0, style=ProgressStyle(description_width='i…"
      ]
     },
     "metadata": {},
     "output_type": "display_data"
    },
    {
     "name": "stdout",
     "output_type": "stream",
     "text": [
      "\n"
     ]
    },
    {
     "data": {
      "application/vnd.jupyter.widget-view+json": {
       "model_id": "d44d1e8a621449388cf4017762138728",
       "version_major": 2,
       "version_minor": 0
      },
      "text/plain": [
       "HBox(children=(FloatProgress(value=0.0, description='num', max=724.0, style=ProgressStyle(description_width='i…"
      ]
     },
     "metadata": {},
     "output_type": "display_data"
    },
    {
     "name": "stdout",
     "output_type": "stream",
     "text": [
      "\n"
     ]
    }
   ],
   "source": [
    "from tqdm import tqdm, tqdm_notebook\n",
    "\n",
    "종목명 = []\n",
    "현재가 = []\n",
    "배당금 = []\n",
    "수익률 = []\n",
    "배당성향 = []\n",
    "ROE = []\n",
    "PER = []\n",
    "PBR = []\n",
    "배당금_1년전 = []\n",
    "배당금_2년전 = []\n",
    "배당금_3년전 = []\n",
    "\n",
    "for url in url_list:\n",
    "    print(url, \"...\")\n",
    "    page = urlopen(url)\n",
    "    soup = BeautifulSoup(page, 'html.parser')\n",
    "#     print(soup.prettify())\n",
    "\n",
    "    name_len = len(soup.find_all('td', 'txt frst'))\n",
    "    num_len = len(soup.find_all('td', 'num'))\n",
    "\n",
    "    for name_idx in tqdm_notebook(range(1, name_len - 1),\n",
    "                        desc='name', mininterval=0.1):\n",
    "        name_str = soup.find_all('td', 'txt frst')[name_idx].string\n",
    "        if name_str != '\\xa0':\n",
    "            종목명.append(name_str)\n",
    "\n",
    "    for num_idx in tqdm_notebook(range(1, num_len - 1),\n",
    "                        desc='num', mininterval=0.1):\n",
    "        num_str = soup.find_all('td', 'num')[num_idx].string\n",
    "        if num_idx % 11 == 0 and num_str != '\\xa0':\n",
    "            현재가.append(num_str)\n",
    "        elif num_idx % 11 == 2 and num_str != '\\xa0':\n",
    "            배당금.append(num_str)\n",
    "        elif num_idx % 11 == 3 and num_str != '\\xa0':\n",
    "            수익률.append(num_str)\n",
    "        elif num_idx % 11 == 4 and num_str != '\\xa0':\n",
    "            배당성향.append(num_str)\n",
    "        elif num_idx % 11 == 5 and num_str != '\\xa0':\n",
    "            ROE.append(num_str)\n",
    "        elif num_idx % 11 == 6 and num_str != '\\xa0':\n",
    "            PER.append(num_str)\n",
    "        elif num_idx % 11 == 7 and num_str != '\\xa0':\n",
    "            PBR.append(num_str)\n",
    "        elif num_idx % 11 == 8 and num_str != '\\xa0':\n",
    "            배당금_1년전.append(num_str)\n",
    "        elif num_idx % 11 == 9 and num_str != '\\xa0':\n",
    "            배당금_2년전.append(num_str)\n",
    "        elif num_idx % 11 == 10 and num_str != '\\xa0':\n",
    "            배당금_3년전.append(num_str)"
   ]
  },
  {
   "cell_type": "code",
   "execution_count": 20,
   "metadata": {},
   "outputs": [],
   "source": [
    "from datetime import date\n",
    "import pandas as pd\n",
    "\n",
    "data = {'종목명':종목명, '현재가':현재가, '배당금':배당금,\n",
    "       '수익률':수익률, '배당성향':배당성향, 'ROE':ROE, \n",
    "       'PER':PER, 'PBR':PBR, '배당금_1년전':배당금_1년전,\n",
    "       '배당금_2년전':배당금_2년전, '배당금_3년전':배당금_3년전}\n",
    "stock_data = pd.DataFrame(data)\n",
    "stock_data = stock_data.set_index('종목명')\n",
    "# stock_data.head()\n",
    "\n",
    "today = date.today()\n",
    "stock_data.to_csv(\"./\" + str(today) + '.csv',\n",
    "        sep=',',\n",
    "        na_rep='NaN',\n",
    "        encoding='UTF-8'\n",
    "         )"
   ]
  },
  {
   "cell_type": "code",
   "execution_count": 25,
   "metadata": {},
   "outputs": [
    {
     "data": {
      "text/html": [
       "<div>\n",
       "<style scoped>\n",
       "    .dataframe tbody tr th:only-of-type {\n",
       "        vertical-align: middle;\n",
       "    }\n",
       "\n",
       "    .dataframe tbody tr th {\n",
       "        vertical-align: top;\n",
       "    }\n",
       "\n",
       "    .dataframe thead th {\n",
       "        text-align: right;\n",
       "    }\n",
       "</style>\n",
       "<table border=\"1\" class=\"dataframe\">\n",
       "  <thead>\n",
       "    <tr style=\"text-align: right;\">\n",
       "      <th></th>\n",
       "      <th>현재가</th>\n",
       "      <th>배당금</th>\n",
       "      <th>수익률</th>\n",
       "      <th>배당성향</th>\n",
       "      <th>ROE</th>\n",
       "      <th>PER</th>\n",
       "      <th>PBR</th>\n",
       "      <th>배당금_1년전</th>\n",
       "      <th>배당금_2년전</th>\n",
       "      <th>배당금_3년전</th>\n",
       "    </tr>\n",
       "    <tr>\n",
       "      <th>종목명</th>\n",
       "      <th></th>\n",
       "      <th></th>\n",
       "      <th></th>\n",
       "      <th></th>\n",
       "      <th></th>\n",
       "      <th></th>\n",
       "      <th></th>\n",
       "      <th></th>\n",
       "      <th></th>\n",
       "      <th></th>\n",
       "    </tr>\n",
       "  </thead>\n",
       "  <tbody>\n",
       "    <tr>\n",
       "      <th>베트남개발1</th>\n",
       "      <td>289</td>\n",
       "      <td>90</td>\n",
       "      <td>31.00</td>\n",
       "      <td>-</td>\n",
       "      <td>-</td>\n",
       "      <td>-</td>\n",
       "      <td>-</td>\n",
       "      <td>4</td>\n",
       "      <td>199</td>\n",
       "      <td>90</td>\n",
       "    </tr>\n",
       "    <tr>\n",
       "      <th>동양고속</th>\n",
       "      <td>26,300</td>\n",
       "      <td>4,700</td>\n",
       "      <td>17.87</td>\n",
       "      <td>38.41</td>\n",
       "      <td>26.85</td>\n",
       "      <td>2.41</td>\n",
       "      <td>0.55</td>\n",
       "      <td>1,000</td>\n",
       "      <td>635</td>\n",
       "      <td>153</td>\n",
       "    </tr>\n",
       "    <tr>\n",
       "      <th>두산우</th>\n",
       "      <td>34,500</td>\n",
       "      <td>5,250</td>\n",
       "      <td>15.22</td>\n",
       "      <td>23.78</td>\n",
       "      <td>23.52</td>\n",
       "      <td>3.86</td>\n",
       "      <td>0.80</td>\n",
       "      <td>5,250</td>\n",
       "      <td>5,150</td>\n",
       "      <td>5,150</td>\n",
       "    </tr>\n",
       "    <tr>\n",
       "      <th>두산</th>\n",
       "      <td>38,450</td>\n",
       "      <td>5,200</td>\n",
       "      <td>13.52</td>\n",
       "      <td>23.78</td>\n",
       "      <td>23.52</td>\n",
       "      <td>3.86</td>\n",
       "      <td>0.80</td>\n",
       "      <td>5,200</td>\n",
       "      <td>5,100</td>\n",
       "      <td>5,100</td>\n",
       "    </tr>\n",
       "    <tr>\n",
       "      <th>웅진씽크빅</th>\n",
       "      <td>2,520</td>\n",
       "      <td>310</td>\n",
       "      <td>12.32</td>\n",
       "      <td>-29.05</td>\n",
       "      <td>-35.62</td>\n",
       "      <td>-2.38</td>\n",
       "      <td>0.83</td>\n",
       "      <td>0</td>\n",
       "      <td>122</td>\n",
       "      <td>0</td>\n",
       "    </tr>\n",
       "  </tbody>\n",
       "</table>\n",
       "</div>"
      ],
      "text/plain": [
       "           현재가    배당금    수익률    배당성향     ROE    PER   PBR 배당금_1년전 배당금_2년전  \\\n",
       "종목명                                                                         \n",
       "베트남개발1     289     90  31.00       -       -      -     -       4     199   \n",
       "동양고속    26,300  4,700  17.87   38.41   26.85   2.41  0.55   1,000     635   \n",
       "두산우     34,500  5,250  15.22   23.78   23.52   3.86  0.80   5,250   5,150   \n",
       "두산      38,450  5,200  13.52   23.78   23.52   3.86  0.80   5,200   5,100   \n",
       "웅진씽크빅    2,520    310  12.32  -29.05  -35.62  -2.38  0.83       0     122   \n",
       "\n",
       "       배당금_3년전  \n",
       "종목명             \n",
       "베트남개발1      90  \n",
       "동양고속       153  \n",
       "두산우      5,150  \n",
       "두산       5,100  \n",
       "웅진씽크빅        0  "
      ]
     },
     "execution_count": 25,
     "metadata": {},
     "output_type": "execute_result"
    }
   ],
   "source": [
    "stock_data = pd.read_csv(\"./2020-07-18.csv\")\n",
    "stock_data = stock_data.set_index('종목명')\n",
    "# stock_data.head()\n",
    "\n",
    "stock_by_yield = stock_data.sort_values(by='수익률', ascending=False)\n",
    "stock_by_yield.head()"
   ]
  },
  {
   "cell_type": "markdown",
   "metadata": {
    "scrolled": true
   },
   "source": [
    "https://ppss.kr/archives/182133\n",
    "\n",
    "#### 신마법공식\n",
    "> PBR + GP/A 순으로 종목을 정렬\n",
    "> - GP/A = 매출총이익/총자본\n",
    "> - PBR = 주당순자산 비율 = 시가총액/자본\n",
    "> - 매출총이익 : 매출액 - 제품원가"
   ]
  },
  {
   "cell_type": "code",
   "execution_count": 26,
   "metadata": {
    "scrolled": true
   },
   "outputs": [
    {
     "data": {
      "text/html": [
       "<div>\n",
       "<style scoped>\n",
       "    .dataframe tbody tr th:only-of-type {\n",
       "        vertical-align: middle;\n",
       "    }\n",
       "\n",
       "    .dataframe tbody tr th {\n",
       "        vertical-align: top;\n",
       "    }\n",
       "\n",
       "    .dataframe thead th {\n",
       "        text-align: right;\n",
       "    }\n",
       "</style>\n",
       "<table border=\"1\" class=\"dataframe\">\n",
       "  <thead>\n",
       "    <tr style=\"text-align: right;\">\n",
       "      <th></th>\n",
       "      <th>현재가</th>\n",
       "      <th>배당금</th>\n",
       "      <th>수익률</th>\n",
       "      <th>배당성향</th>\n",
       "      <th>ROE</th>\n",
       "      <th>PER</th>\n",
       "      <th>PBR</th>\n",
       "      <th>배당금_1년전</th>\n",
       "      <th>배당금_2년전</th>\n",
       "      <th>배당금_3년전</th>\n",
       "    </tr>\n",
       "    <tr>\n",
       "      <th>종목명</th>\n",
       "      <th></th>\n",
       "      <th></th>\n",
       "      <th></th>\n",
       "      <th></th>\n",
       "      <th></th>\n",
       "      <th></th>\n",
       "      <th></th>\n",
       "      <th></th>\n",
       "      <th></th>\n",
       "      <th></th>\n",
       "    </tr>\n",
       "  </thead>\n",
       "  <tbody>\n",
       "    <tr>\n",
       "      <th>더존비즈온</th>\n",
       "      <td>105,000</td>\n",
       "      <td>470</td>\n",
       "      <td>0.45</td>\n",
       "      <td>30.32</td>\n",
       "      <td>18.78</td>\n",
       "      <td>48.54</td>\n",
       "      <td>6.95</td>\n",
       "      <td>450</td>\n",
       "      <td>400</td>\n",
       "      <td>290</td>\n",
       "    </tr>\n",
       "    <tr>\n",
       "      <th>코웨이</th>\n",
       "      <td>76,400</td>\n",
       "      <td>2,400</td>\n",
       "      <td>3.14</td>\n",
       "      <td>52.05</td>\n",
       "      <td>30.74</td>\n",
       "      <td>20.64</td>\n",
       "      <td>6.24</td>\n",
       "      <td>3,600</td>\n",
       "      <td>3,200</td>\n",
       "      <td>3,200</td>\n",
       "    </tr>\n",
       "    <tr>\n",
       "      <th>LG생활건강</th>\n",
       "      <td>1,345,000</td>\n",
       "      <td>11,000</td>\n",
       "      <td>0.82</td>\n",
       "      <td>23.70</td>\n",
       "      <td>20.32</td>\n",
       "      <td>28.71</td>\n",
       "      <td>5.10</td>\n",
       "      <td>9,250</td>\n",
       "      <td>9,000</td>\n",
       "      <td>7,500</td>\n",
       "    </tr>\n",
       "    <tr>\n",
       "      <th>LG생활건강우</th>\n",
       "      <td>710,000</td>\n",
       "      <td>11,050</td>\n",
       "      <td>1.56</td>\n",
       "      <td>23.70</td>\n",
       "      <td>20.32</td>\n",
       "      <td>28.71</td>\n",
       "      <td>5.10</td>\n",
       "      <td>9,300</td>\n",
       "      <td>9,050</td>\n",
       "      <td>7,550</td>\n",
       "    </tr>\n",
       "    <tr>\n",
       "      <th>한미약품</th>\n",
       "      <td>249,000</td>\n",
       "      <td>490</td>\n",
       "      <td>0.20</td>\n",
       "      <td>11.07</td>\n",
       "      <td>7.30</td>\n",
       "      <td>67.39</td>\n",
       "      <td>4.82</td>\n",
       "      <td>481</td>\n",
       "      <td>471</td>\n",
       "      <td>0</td>\n",
       "    </tr>\n",
       "  </tbody>\n",
       "</table>\n",
       "</div>"
      ],
      "text/plain": [
       "               현재가     배당금   수익률   배당성향    ROE    PER   PBR 배당금_1년전 배당금_2년전  \\\n",
       "종목명                                                                           \n",
       "더존비즈온      105,000     470  0.45  30.32  18.78  48.54  6.95     450     400   \n",
       "코웨이         76,400   2,400  3.14  52.05  30.74  20.64  6.24   3,600   3,200   \n",
       "LG생활건강   1,345,000  11,000  0.82  23.70  20.32  28.71  5.10   9,250   9,000   \n",
       "LG생활건강우    710,000  11,050  1.56  23.70  20.32  28.71  5.10   9,300   9,050   \n",
       "한미약품       249,000     490  0.20  11.07   7.30  67.39  4.82     481     471   \n",
       "\n",
       "        배당금_3년전  \n",
       "종목명              \n",
       "더존비즈온       290  \n",
       "코웨이       3,200  \n",
       "LG생활건강    7,500  \n",
       "LG생활건강우   7,550  \n",
       "한미약품          0  "
      ]
     },
     "execution_count": 26,
     "metadata": {},
     "output_type": "execute_result"
    }
   ],
   "source": [
    "stock_data = pd.read_csv(\"./2020-07-18.csv\")\n",
    "stock_data = stock_data.set_index('종목명')\n",
    "# stock_data.head()\n",
    "\n",
    "stock_by_yield = stock_data.sort_values(by='PBR', ascending=False)\n",
    "stock_by_yield.head()"
   ]
  },
  {
   "cell_type": "code",
   "execution_count": 37,
   "metadata": {},
   "outputs": [],
   "source": [
    "from selenium import webdriver\n",
    "\n",
    "driver = webdriver.Chrome('C:/Users/TAEHUI LEE/driver/chromedriver/chromedriver.exe')\n",
    "driver.implicitly_wait(1)\n",
    "driver.get('http://www.rating.co.kr/')\n",
    "\n",
    "name = \"삼성전자\"\n",
    "tab = \"주요재무제표\"\n",
    "\n",
    "search_name = driver.find_element_by_id(\"companyName\")\n",
    "search_name.clear()\n",
    "search_name.send_keys(name)\n",
    "xpath = '//*[@id=\"searchBtn\"]'\n",
    "driver.find_element_by_xpath(xpath).click()\n",
    "driver.find_element_by_partial_link_text(name).click()\n",
    "driver.find_element_by_partial_link_text(tab).click()"
   ]
  },
  {
   "cell_type": "code",
   "execution_count": null,
   "metadata": {},
   "outputs": [],
   "source": []
  }
 ],
 "metadata": {
  "kernelspec": {
   "display_name": "Python 3",
   "language": "python",
   "name": "python3"
  },
  "language_info": {
   "codemirror_mode": {
    "name": "ipython",
    "version": 3
   },
   "file_extension": ".py",
   "mimetype": "text/x-python",
   "name": "python",
   "nbconvert_exporter": "python",
   "pygments_lexer": "ipython3",
   "version": "3.6.10"
  }
 },
 "nbformat": 4,
 "nbformat_minor": 4
}
